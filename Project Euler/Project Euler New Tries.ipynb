{
 "cells": [
  {
   "cell_type": "markdown",
   "metadata": {},
   "source": [
    "### Problem 76\n",
    "Different ways of writing 100 as a sum of at least two positive integers. \n",
    "Example: 4 can be written as 1+3 or 2+2 or 1+1+2 or 1+1+1+1.\n",
    "\n",
    "I think we should solve this recursively.\n",
    "\n",
    "2: 1: 1+1\n",
    "\n",
    "3: 2: 1+1+1, 1+2. count(2) + 1.\n",
    "\n",
    "4: 4: 1+1+1+1, 1+2+1, 1+3, 2+2. count(3) + 2.\n",
    "\n",
    "5: 6: 1+1+1+1+1, 1+2+1+1, 1+3+1, 2+2+1, 1+4, 2+3. count(4) + 2.\n",
    "\n",
    "6: 10: 1+1+1+1+1+1, 1+2+1+1+1, 1+3+1+1, 2+2+1+1, 1+4+1, 2+3+1, 1+5, 3+3, 2+4, 2+2+2. count(5) + 4."
   ]
  },
  {
   "cell_type": "code",
   "execution_count": 23,
   "metadata": {},
   "outputs": [
    {
     "name": "stdout",
     "output_type": "stream",
     "text": [
      "largest: 1, total: 1, remaining: 0, ways to make 1 with largest digit 1: 1\n",
      "largest: 1, total: 2, remaining: 1, ways to make 2 with largest digit 1: 1\n",
      "largest: 1, total: 3, remaining: 2, ways to make 3 with largest digit 1: 1\n",
      "largest: 1, total: 4, remaining: 3, ways to make 4 with largest digit 1: 1\n",
      "largest: 1, total: 5, remaining: 4, ways to make 5 with largest digit 1: 1\n",
      "largest: 1, total: 6, remaining: 5, ways to make 6 with largest digit 1: 1\n",
      "largest: 1, total: 7, remaining: 6, ways to make 7 with largest digit 1: 1\n",
      "largest digit allowed 1: [1 1 1 1 1 1 1 1]\n",
      "largest: 2, total: 2, remaining: 0, ways to make 2 with largest digit 2: 1\n",
      "largest: 2, total: 3, remaining: 1, ways to make 3 with largest digit 2: 1\n",
      "largest: 2, total: 4, remaining: 2, ways to make 4 with largest digit 2: 2\n",
      "largest: 2, total: 5, remaining: 3, ways to make 5 with largest digit 2: 2\n",
      "largest: 2, total: 6, remaining: 4, ways to make 6 with largest digit 2: 3\n",
      "largest: 2, total: 7, remaining: 5, ways to make 7 with largest digit 2: 3\n",
      "largest digit allowed 2: [1 1 2 2 3 3 4 4]\n",
      "largest: 3, total: 3, remaining: 0, ways to make 3 with largest digit 3: 1\n",
      "largest: 3, total: 4, remaining: 1, ways to make 4 with largest digit 3: 1\n",
      "largest: 3, total: 5, remaining: 2, ways to make 5 with largest digit 3: 2\n",
      "largest: 3, total: 6, remaining: 3, ways to make 6 with largest digit 3: 3\n",
      "largest: 3, total: 7, remaining: 4, ways to make 7 with largest digit 3: 4\n",
      "largest digit allowed 3: [1 1 2 3 4 5 7 8]\n",
      "largest: 4, total: 4, remaining: 0, ways to make 4 with largest digit 4: 1\n",
      "largest: 4, total: 5, remaining: 1, ways to make 5 with largest digit 4: 1\n",
      "largest: 4, total: 6, remaining: 2, ways to make 6 with largest digit 4: 2\n",
      "largest: 4, total: 7, remaining: 3, ways to make 7 with largest digit 4: 3\n",
      "largest digit allowed 4: [ 1  1  2  3  5  6  9 11]\n",
      "largest: 5, total: 5, remaining: 0, ways to make 5 with largest digit 5: 1\n",
      "largest: 5, total: 6, remaining: 1, ways to make 6 with largest digit 5: 1\n",
      "largest: 5, total: 7, remaining: 2, ways to make 7 with largest digit 5: 2\n",
      "largest digit allowed 5: [ 1  1  2  3  5  7 10 13]\n",
      "largest: 6, total: 6, remaining: 0, ways to make 6 with largest digit 6: 1\n",
      "largest: 6, total: 7, remaining: 1, ways to make 7 with largest digit 6: 1\n",
      "largest digit allowed 6: [ 1  1  2  3  5  7 11 14]\n",
      "largest: 7, total: 7, remaining: 0, ways to make 7 with largest digit 7: 1\n",
      "largest digit allowed 7: [ 1  1  2  3  5  7 11 15]\n",
      "[ 0  0  1  2  4  6 10 14]\n"
     ]
    }
   ],
   "source": [
    "# solution taked from \n",
    "# https://blog.dreamshire.com/project-euler-31-solution/\n",
    "\n",
    "import numpy as np\n",
    "target = 7\n",
    "ns = range(1, target+1)\n",
    "ways = np.array([1] + [0]*target)\n",
    "\n",
    "for n in ns:\n",
    "    for i in range(n, target+1):\n",
    "        ways[i] += ways[i-n]\n",
    "        print(f\"largest: {n}, total: {i}, remaining: {i-n}\"\n",
    "              f\", ways to make {i} with largest digit {n}: {ways[i-n]}\")\n",
    "    print(f\"largest digit allowed {n}: {ways}\")\n",
    "print(ways-1)"
   ]
  },
  {
   "cell_type": "code",
   "execution_count": 18,
   "metadata": {},
   "outputs": [],
   "source": [
    "# brute force combos\n",
    "import itertools as it\n",
    "def count(x):\n",
    "    ans = 0\n",
    "    for i in range(2,x+1):\n",
    "        max_allowed = x-(i-1)\n",
    "        combos = it.combinations_with_replacement(range(1,max_allowed+1),i)\n",
    "        for combo in combos:\n",
    "            #print(combo)\n",
    "            if sum(combo) == x:\n",
    "                ans += 1\n",
    "                print(combo)\n",
    "    return ans"
   ]
  },
  {
   "cell_type": "code",
   "execution_count": 19,
   "metadata": {},
   "outputs": [
    {
     "name": "stdout",
     "output_type": "stream",
     "text": [
      "(1, 5)\n",
      "(2, 4)\n",
      "(3, 3)\n",
      "(1, 1, 4)\n",
      "(1, 2, 3)\n",
      "(2, 2, 2)\n",
      "(1, 1, 1, 3)\n",
      "(1, 1, 2, 2)\n",
      "(1, 1, 1, 1, 2)\n",
      "(1, 1, 1, 1, 1, 1)\n"
     ]
    },
    {
     "data": {
      "text/plain": [
       "10"
      ]
     },
     "execution_count": 19,
     "metadata": {},
     "output_type": "execute_result"
    }
   ],
   "source": [
    "count(6)"
   ]
  },
  {
   "cell_type": "markdown",
   "metadata": {},
   "source": [
    "### Problem 145"
   ]
  },
  {
   "cell_type": "code",
   "execution_count": 42,
   "metadata": {},
   "outputs": [],
   "source": [
    "def bruteforce_is_reversible(x):\n",
    "    if not x%10:\n",
    "        return False\n",
    "    r = str(x)[::-1]\n",
    "    #print(r)\n",
    "    s = int(r) + x\n",
    "    #print(s)\n",
    "    for i in str(s):\n",
    "        if not int(i)%2:\n",
    "            return False\n",
    "    return True"
   ]
  },
  {
   "cell_type": "code",
   "execution_count": 44,
   "metadata": {},
   "outputs": [
    {
     "data": {
      "text/plain": [
       "18720"
      ]
     },
     "execution_count": 44,
     "metadata": {},
     "output_type": "execute_result"
    }
   ],
   "source": [
    "sum(list(map(bruteforce_is_reversible,range(10,int(1e6)+1))))"
   ]
  },
  {
   "cell_type": "code",
   "execution_count": 41,
   "metadata": {},
   "outputs": [
    {
     "name": "stdout",
     "output_type": "stream",
     "text": [
      "904\n",
      "1313\n"
     ]
    },
    {
     "data": {
      "text/plain": [
       "True"
      ]
     },
     "execution_count": 41,
     "metadata": {},
     "output_type": "execute_result"
    }
   ],
   "source": [
    "bruteforce_is_reversible(409)"
   ]
  },
  {
   "cell_type": "code",
   "execution_count": 49,
   "metadata": {},
   "outputs": [
    {
     "name": "stdout",
     "output_type": "stream",
     "text": [
      "11 11\n",
      "22\n",
      "12 21\n",
      "33\n",
      "13 31\n",
      "44\n",
      "14 41\n",
      "55\n",
      "15 51\n",
      "66\n",
      "16 61\n",
      "77\n",
      "17 71\n",
      "88\n",
      "18 81\n",
      "99\n",
      "19 91\n",
      "110\n",
      "21 12\n",
      "33\n",
      "22 22\n",
      "44\n",
      "23 32\n",
      "55\n",
      "24 42\n",
      "66\n",
      "25 52\n",
      "77\n",
      "26 62\n",
      "88\n",
      "27 72\n",
      "99\n",
      "28 82\n",
      "110\n",
      "29 92\n",
      "121\n",
      "31 13\n",
      "44\n",
      "32 23\n",
      "55\n",
      "33 33\n",
      "66\n",
      "34 43\n",
      "77\n",
      "35 53\n",
      "88\n",
      "36 63\n",
      "99\n",
      "37 73\n",
      "110\n",
      "38 83\n",
      "121\n",
      "39 93\n",
      "132\n",
      "41 14\n",
      "55\n",
      "42 24\n",
      "66\n",
      "43 34\n",
      "77\n",
      "44 44\n",
      "88\n",
      "45 54\n",
      "99\n",
      "46 64\n",
      "110\n",
      "47 74\n",
      "121\n",
      "48 84\n",
      "132\n",
      "49 94\n",
      "143\n",
      "51 15\n",
      "66\n",
      "52 25\n",
      "77\n",
      "53 35\n",
      "88\n",
      "54 45\n",
      "99\n",
      "55 55\n",
      "110\n",
      "56 65\n",
      "121\n",
      "57 75\n",
      "132\n",
      "58 85\n",
      "143\n",
      "59 95\n",
      "154\n",
      "61 16\n",
      "77\n",
      "62 26\n",
      "88\n",
      "63 36\n",
      "99\n",
      "64 46\n",
      "110\n",
      "65 56\n",
      "121\n",
      "66 66\n",
      "132\n",
      "67 76\n",
      "143\n",
      "68 86\n",
      "154\n",
      "69 96\n",
      "165\n",
      "71 17\n",
      "88\n",
      "72 27\n",
      "99\n",
      "73 37\n",
      "110\n",
      "74 47\n",
      "121\n",
      "75 57\n",
      "132\n",
      "76 67\n",
      "143\n",
      "77 77\n",
      "154\n",
      "78 87\n",
      "165\n",
      "79 97\n",
      "176\n",
      "81 18\n",
      "99\n",
      "82 28\n",
      "110\n",
      "83 38\n",
      "121\n",
      "84 48\n",
      "132\n",
      "85 58\n",
      "143\n",
      "86 68\n",
      "154\n",
      "87 78\n",
      "165\n",
      "88 88\n",
      "176\n",
      "89 98\n",
      "187\n",
      "91 19\n",
      "110\n",
      "92 29\n",
      "121\n",
      "93 39\n",
      "132\n",
      "94 49\n",
      "143\n",
      "95 59\n",
      "154\n",
      "96 69\n",
      "165\n",
      "97 79\n",
      "176\n",
      "98 89\n",
      "187\n",
      "99 99\n",
      "198\n"
     ]
    }
   ],
   "source": [
    "for x in range(10,100):\n",
    "    if x%10:\n",
    "        print(x,str(x)[::-1])\n",
    "        print(x+int(str(x)[::-1]))"
   ]
  },
  {
   "cell_type": "markdown",
   "metadata": {},
   "source": [
    "### Problem 102"
   ]
  },
  {
   "cell_type": "code",
   "execution_count": 190,
   "metadata": {},
   "outputs": [],
   "source": [
    "# based on https://blackpawn.com/texts/pointinpoly/default.html\n",
    "\n",
    "import numpy as np\n",
    "def slope(ab):\n",
    "    return (ab[1,1]-ab[0,1])/(ab[1,0]-ab[0,0])\n",
    "\n",
    "def c(ab):\n",
    "    return np.cross(*ab)\n",
    "\n",
    "def sameside(p,q,a,b):\n",
    "    # check whether p is on the same side of ab as q\n",
    "    #print(ab)\n",
    "    ab = b-a\n",
    "    dp = np.cross(ab,p-a)\n",
    "    dq = np.cross(ab,q-a)\n",
    "    print(dp,dq)\n",
    "    return (dp>=0 and dq>=0) or (dp<=0 and dq<=0)\n",
    "\n",
    "def containsorigin(t):\n",
    "    for vertex in range(3):\n",
    "        a,b = np.delete(t,vertex,0)\n",
    "        if not sameside(np.zeros(2),t[vertex],a,b):\n",
    "            return False\n",
    "    return True"
   ]
  },
  {
   "cell_type": "code",
   "execution_count": 191,
   "metadata": {},
   "outputs": [],
   "source": [
    "origin = np.zeros(2)\n",
    "t = np.array([(-340,495),(-153,-910),(835,-947)])\n",
    "u = np.array([(-175,41),(-421,-714),(574,-645)])"
   ]
  },
  {
   "cell_type": "code",
   "execution_count": 192,
   "metadata": {},
   "outputs": [
    {
     "name": "stdout",
     "output_type": "stream",
     "text": [
      "904741.0 1381221\n",
      "-91345.0 -1381221\n",
      "385135.0 1381221\n",
      "681381.0 734251\n",
      "89341.0 -734251\n",
      "True False\n"
     ]
    }
   ],
   "source": [
    "print(containsorigin(t),containsorigin(u))"
   ]
  },
  {
   "cell_type": "code",
   "execution_count": 193,
   "metadata": {},
   "outputs": [
    {
     "name": "stdout",
     "output_type": "stream",
     "text": [
      "904741.0 1381221\n"
     ]
    },
    {
     "data": {
      "text/plain": [
       "True"
      ]
     },
     "execution_count": 193,
     "metadata": {},
     "output_type": "execute_result"
    }
   ],
   "source": [
    "a = np.array([1,1])\n",
    "b = np.array([2,1])\n",
    "c = np.array([3,3])\n",
    "d = np.array([4,3])\n",
    "\n",
    "sameside(origin,t[0],t[1],t[2],)"
   ]
  },
  {
   "cell_type": "code",
   "execution_count": null,
   "metadata": {},
   "outputs": [],
   "source": []
  }
 ],
 "metadata": {
  "kernelspec": {
   "display_name": "Python 3 (ipykernel)",
   "language": "python",
   "name": "python3"
  },
  "language_info": {
   "codemirror_mode": {
    "name": "ipython",
    "version": 3
   },
   "file_extension": ".py",
   "mimetype": "text/x-python",
   "name": "python",
   "nbconvert_exporter": "python",
   "pygments_lexer": "ipython3",
   "version": "3.9.12"
  }
 },
 "nbformat": 4,
 "nbformat_minor": 2
}
